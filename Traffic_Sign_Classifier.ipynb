{
 "cells": [
  {
   "cell_type": "markdown",
   "metadata": {
    "deletable": true,
    "editable": true
   },
   "source": [
    "# Self-Driving Car Engineer Nanodegree\n",
    "\n",
    "## Deep Learning\n",
    "\n",
    "## Project: Build a Traffic Sign Recognition Classifier\n",
    "\n",
    "In this notebook, a template is provided for you to implement your functionality in stages, which is required to successfully complete this project. If additional code is required that cannot be included in the notebook, be sure that the Python code is successfully imported and included in your submission if necessary. \n",
    "\n",
    "> **Note**: Once you have completed all of the code implementations, you need to finalize your work by exporting the iPython Notebook as an HTML document. Before exporting the notebook to html, all of the code cells need to have been run so that reviewers can see the final implementation and output. You can then export the notebook by using the menu above and navigating to  \\n\",\n",
    "    \"**File -> Download as -> HTML (.html)**. Include the finished document along with this notebook as your submission. \n",
    "\n",
    "In addition to implementing code, there is a writeup to complete. The writeup should be completed in a separate file, which can be either a markdown file or a pdf document. There is a [write up template](https://github.com/udacity/CarND-Traffic-Sign-Classifier-Project/blob/master/writeup_template.md) that can be used to guide the writing process. Completing the code template and writeup template will cover all of the [rubric points](https://review.udacity.com/#!/rubrics/481/view) for this project.\n",
    "\n",
    "The [rubric](https://review.udacity.com/#!/rubrics/481/view) contains \"Stand Out Suggestions\" for enhancing the project beyond the minimum requirements. The stand out suggestions are optional. If you decide to pursue the \"stand out suggestions\", you can include the code in this Ipython notebook and also discuss the results in the writeup file.\n",
    "\n",
    "\n",
    ">**Note:** Code and Markdown cells can be executed using the **Shift + Enter** keyboard shortcut. In addition, Markdown cells can be edited by typically double-clicking the cell to enter edit mode."
   ]
  },
  {
   "cell_type": "markdown",
   "metadata": {
    "deletable": true,
    "editable": true
   },
   "source": [
    "---\n",
    "## Step 0: Load The Data"
   ]
  },
  {
   "cell_type": "markdown",
   "metadata": {
    "deletable": true,
    "editable": true
   },
   "source": [
    "### Setup"
   ]
  },
  {
   "cell_type": "code",
   "execution_count": 1,
   "metadata": {
    "collapsed": true,
    "deletable": true,
    "editable": true
   },
   "outputs": [],
   "source": [
    "%matplotlib inline"
   ]
  },
  {
   "cell_type": "code",
   "execution_count": 2,
   "metadata": {
    "collapsed": true,
    "deletable": true,
    "editable": true
   },
   "outputs": [],
   "source": [
    "import cv2\n",
    "import helpers\n",
    "import matplotlib.pyplot as plt\n",
    "import numpy as np\n",
    "import pandas as pd\n",
    "import pickle\n",
    "import tensorflow as tf\n",
    "import tensorflow.contrib.layers as tfcl\n",
    "\n",
    "from collections import Counter\n",
    "from sklearn.utils import shuffle\n",
    "from tqdm import tqdm\n",
    "\n",
    "ix = helpers.EXAMPLE_IMG_INDEX"
   ]
  },
  {
   "cell_type": "markdown",
   "metadata": {
    "deletable": true,
    "editable": true
   },
   "source": [
    "### Load"
   ]
  },
  {
   "cell_type": "code",
   "execution_count": 3,
   "metadata": {
    "collapsed": false,
    "deletable": true,
    "editable": true
   },
   "outputs": [
    {
     "name": "stdout",
     "output_type": "stream",
     "text": [
      "File download skipped, it already exists, use force==True to overwrite.\n",
      "\n",
      "Skipping unzipping of pickled files, as they've been previously extracted,\n",
      "use force==True to overwrite\n"
     ]
    }
   ],
   "source": [
    "(training_file, \n",
    "     validation_file, \n",
    "     testing_file) = helpers.get_traffic_signs_data()"
   ]
  },
  {
   "cell_type": "code",
   "execution_count": 4,
   "metadata": {
    "collapsed": false,
    "deletable": true,
    "editable": true
   },
   "outputs": [
    {
     "name": "stdout",
     "output_type": "stream",
     "text": [
      "<class 'numpy.ndarray'>\n"
     ]
    }
   ],
   "source": [
    "# Load pickled data\n",
    "with open(training_file, mode='rb') as f:\n",
    "    train = pickle.load(f)\n",
    "    \n",
    "with open(validation_file, mode='rb') as f:\n",
    "    validation = pickle.load(f)\n",
    "    \n",
    "with open(testing_file, mode='rb') as f:\n",
    "    test = pickle.load(f)\n",
    "    \n",
    "X_train, y_train, X_train_sizes, X_train_coords = train['features'], train['labels'], train['sizes'], train['coords']\n",
    "X_validation, y_validation, X_validation_sizes, X_validation_coords = validation['features'], validation['labels'], validation['sizes'], validation['coords']\n",
    "X_test, y_test, X_test_sizes, X_test_coords = test['features'], test['labels'], test['sizes'], test['coords']\n",
    "\n",
    "print(type(X_train))"
   ]
  },
  {
   "cell_type": "markdown",
   "metadata": {
    "deletable": true,
    "editable": true
   },
   "source": [
    "---\n",
    "\n",
    "## Step 1: Dataset Summary & Exploration\n",
    "\n",
    "The pickled data is a dictionary with 4 key/value pairs:\n",
    "\n",
    "- `'features'` is a 4D array containing raw pixel data of the traffic sign images, (num examples, width, height, channels).\n",
    "- `'labels'` is a 1D array containing the label/class id of the traffic sign. The file `signnames.csv` contains id -> name mappings for each id.\n",
    "- `'sizes'` is a list containing tuples, (width, height) representing the original width and height the image.\n",
    "- `'coords'` is a list containing tuples, (x1, y1, x2, y2) representing coordinates of a bounding box around the sign in the image. **THESE COORDINATES ASSUME THE ORIGINAL IMAGE. THE PICKLED DATA CONTAINS RESIZED VERSIONS (32 by 32) OF THESE IMAGES**\n",
    "\n",
    "Complete the basic data summary below. Use python, numpy and/or pandas methods to calculate the data summary rather than hard coding the results. For example, the [pandas shape method](http://pandas.pydata.org/pandas-docs/stable/generated/pandas.DataFrame.shape.html) might be useful for calculating some of the summary results. "
   ]
  },
  {
   "cell_type": "markdown",
   "metadata": {
    "deletable": true,
    "editable": true
   },
   "source": [
    "### Provide a Basic Summary of the Data Set Using Python, Numpy and/or Pandas"
   ]
  },
  {
   "cell_type": "code",
   "execution_count": 5,
   "metadata": {
    "collapsed": false,
    "deletable": true,
    "editable": true
   },
   "outputs": [
    {
     "name": "stdout",
     "output_type": "stream",
     "text": [
      "Number of training examples\t= 34,799\n",
      "Number of validation examples\t=  4,410\n",
      "Number of testing examples\t= 12,630\n",
      "----------------------------------------\n",
      "Total examples\t\t\t= 51,839\n",
      "\n",
      "Image data shape\t\t= (32, 32, 3)\n",
      "Number of classes\t\t= 43\n"
     ]
    }
   ],
   "source": [
    "### Replace each question mark with the appropriate value. \n",
    "### Use python, pandas or numpy methods rather than hard coding the results\n",
    "\n",
    "# TODO: Number of training examples\n",
    "n_train = len(X_train)\n",
    "\n",
    "# TODO: Number of validation examples\n",
    "n_validation = len(X_validation)\n",
    "\n",
    "# TODO: Number of testing examples.\n",
    "n_test = len(X_test)\n",
    "\n",
    "# TODO: What's the shape of an traffic sign image?\n",
    "image_shape = X_train[0].shape\n",
    "\n",
    "# TODO: How many unique classes/labels there are in the dataset.\n",
    "n_classes = len(set(y_train))\n",
    "\n",
    "print(\"Number of training examples\\t= {:>6,}\".format(n_train))\n",
    "print(\"Number of validation examples\\t= {:>6,}\".format(n_validation))\n",
    "print(\"Number of testing examples\\t= {:>6,}\".format(n_test))\n",
    "print(\"-\" * 40)\n",
    "print(\"Total examples\\t\\t\\t= {:>6,}\\n\".format(n_train + n_validation + n_test))\n",
    "print(\"Image data shape\\t\\t= {}\".format(image_shape))\n",
    "print(\"Number of classes\\t\\t= {}\".format(n_classes))"
   ]
  },
  {
   "cell_type": "markdown",
   "metadata": {
    "deletable": true,
    "editable": true
   },
   "source": [
    "### Include an exploratory visualization of the dataset"
   ]
  },
  {
   "cell_type": "markdown",
   "metadata": {
    "deletable": true,
    "editable": true
   },
   "source": [
    "Visualize the German Traffic Signs Dataset using the pickled file(s). This is open ended, suggestions include: plotting traffic sign images, plotting the count of each sign, etc. \n",
    "\n",
    "The [Matplotlib](http://matplotlib.org/) [examples](http://matplotlib.org/examples/index.html) and [gallery](http://matplotlib.org/gallery.html) pages are a great resource for doing visualizations in Python.\n",
    "\n",
    "**NOTE:** It's recommended you start with something simple first. If you wish to do more, come back to it after you've completed the rest of the sections. It can be interesting to look at the distribution of classes in the training, validation and test set. Is the distribution the same? Are there more examples of some classes than others?"
   ]
  },
  {
   "cell_type": "code",
   "execution_count": 6,
   "metadata": {
    "collapsed": false,
    "deletable": true,
    "editable": true
   },
   "outputs": [
    {
     "name": "stdout",
     "output_type": "stream",
     "text": [
      "33\n",
      "(32, 32, 3)\n"
     ]
    },
    {
     "data": {
      "image/png": "[encoded data removed]",
      "text/plain": [
       "<matplotlib.figure.Figure at 0x7f77b75c9630>"
      ]
     },
     "metadata": {},
     "output_type": "display_data"
    },
    {
     "name": "stdout",
     "output_type": "stream",
     "text": [
      "[[[148 148 142]\n",
      "  [153 154 151]\n",
      "  [151 154 152]\n",
      "  ..., \n",
      "  [255 255 255]\n",
      "  [255 255 255]\n",
      "  [255 255 255]]\n",
      "\n",
      " [[147 147 142]\n",
      "  [147 150 146]\n",
      "  [142 148 147]\n",
      "  ..., \n",
      "  [255 255 255]\n",
      "  [255 255 255]\n",
      "  [255 255 255]]\n",
      "\n",
      " [[143 145 141]\n",
      "  [146 151 149]\n",
      "  [138 144 142]\n",
      "  ..., \n",
      "  [255 255 255]\n",
      "  [255 255 255]\n",
      "  [255 255 255]]\n",
      "\n",
      " ..., \n",
      " [[117 134 132]\n",
      "  [122 127 123]\n",
      "  [118 113 110]\n",
      "  ..., \n",
      "  [247 255 255]\n",
      "  [242 255 255]\n",
      "  [248 255 255]]\n",
      "\n",
      " [[110 129 127]\n",
      "  [119 124 120]\n",
      "  [120 113 108]\n",
      "  ..., \n",
      "  [255 255 255]\n",
      "  [255 255 255]\n",
      "  [255 255 255]]\n",
      "\n",
      " [[109 124 124]\n",
      "  [118 122 115]\n",
      "  [120 112 105]\n",
      "  ..., \n",
      "  [255 255 255]\n",
      "  [255 255 255]\n",
      "  [255 255 255]]]\n"
     ]
    }
   ],
   "source": [
    "# EXAMPLE_IMG_INDEX = 34798\n",
    "\n",
    "# def print_example(X, y, img_num = None):\n",
    "#     if img_num == None:\n",
    "#         img_num = EXAMPLE_IMG_INDEX\n",
    "    \n",
    "#     print(y[img_num])\n",
    "#     print(X[img_num].shape)\n",
    "    \n",
    "#     plt.imshow(X[img_num])\n",
    "#     plt.show()\n",
    "    \n",
    "#     print(X[img_num])\n",
    "    \n",
    "helpers.print_example(X_train, y_train)"
   ]
  },
  {
   "cell_type": "markdown",
   "metadata": {
    "deletable": true,
    "editable": true
   },
   "source": [
    "Grayscale and the Y channel, from image when converted to YUV, are almost the same"
   ]
  },
  {
   "cell_type": "code",
   "execution_count": 7,
   "metadata": {
    "collapsed": true,
    "deletable": true,
    "editable": true
   },
   "outputs": [],
   "source": [
    "def inspect_channels(img):\n",
    "    # show rgb\n",
    "    plt.imshow(img)\n",
    "    plt.show()\n",
    "\n",
    "    # show grayscale\n",
    "    plt.imshow(cv2.cvtColor(img, cv2.COLOR_RGB2GRAY))\n",
    "    plt.show()\n",
    "\n",
    "    # yuv channels\n",
    "    y_channel, u_channel, v_channel = cv2.split(cv2.cvtColor(img, cv2.COLOR_RGB2YUV))\n",
    "\n",
    "    # show y channel\n",
    "    plt.imshow(y_channel)\n",
    "    plt.show()\n",
    "\n",
    "    # show u channel\n",
    "    plt.imshow(u_channel)\n",
    "    plt.show()\n",
    "\n",
    "    # show v channel\n",
    "    plt.imshow(v_channel)\n",
    "    plt.show()\n",
    "    \n",
    "    # show u + v channel averaged\n",
    "    plt.imshow(np.mean( np.array([u_channel, v_channel]), axis=0))\n",
    "    plt.show()"
   ]
  },
  {
   "cell_type": "code",
   "execution_count": 8,
   "metadata": {
    "collapsed": false,
    "deletable": true,
    "editable": true,
    "scrolled": true
   },
   "outputs": [
    {
     "data": {
      "image/png": "[encoded data removed]",
      "text/plain": [
       "<matplotlib.figure.Figure at 0x7f77b7576438>"
      ]
     },
     "metadata": {},
     "output_type": "display_data"
    },
    {
     "data": {
      "image/png": "[encoded data removed]",
      "text/plain": [
       "<matplotlib.figure.Figure at 0x7f77b6cfb748>"
      ]
     },
     "metadata": {},
     "output_type": "display_data"
    },
    {
     "data": {
      "image/png": "[encoded data removed]",
      "text/plain": [
       "<matplotlib.figure.Figure at 0x7f77b6c6db38>"
      ]
     },
     "metadata": {},
     "output_type": "display_data"
    },
    {
     "data": {
      "image/png": "[encoded data removed]",
      "text/plain": [
       "<matplotlib.figure.Figure at 0x7f77b6bd3eb8>"
      ]
     },
     "metadata": {},
     "output_type": "display_data"
    },
    {
     "data": {
      "image/png": "[encoded data removed]",
      "text/plain": [
       "<matplotlib.figure.Figure at 0x7f77b6caafd0>"
      ]
     },
     "metadata": {},
     "output_type": "display_data"
    },
    {
     "data": {
      "image/png": "[encoded data removed]",
      "text/plain": [
       "<matplotlib.figure.Figure at 0x7f77b6bdf1d0>"
      ]
     },
     "metadata": {},
     "output_type": "display_data"
    }
   ],
   "source": [
    "img = X_train[ix][:].copy()\n",
    "inspect_channels(img)"
   ]
  },
  {
   "cell_type": "markdown",
   "metadata": {
    "deletable": true,
    "editable": true
   },
   "source": [
    "### Bounding box"
   ]
  },
  {
   "cell_type": "code",
   "execution_count": 9,
   "metadata": {
    "collapsed": false,
    "deletable": true,
    "editable": true
   },
   "outputs": [
    {
     "data": {
      "text/plain": [
       "array([72, 69], dtype=uint8)"
      ]
     },
     "execution_count": 9,
     "metadata": {},
     "output_type": "execute_result"
    }
   ],
   "source": [
    "X_train_sizes[ix]"
   ]
  },
  {
   "cell_type": "code",
   "execution_count": 10,
   "metadata": {
    "collapsed": false,
    "deletable": true,
    "editable": true
   },
   "outputs": [
    {
     "name": "stdout",
     "output_type": "stream",
     "text": [
      "x_scale = 0.464\n",
      "y_scale = 0.444\n"
     ]
    }
   ],
   "source": [
    "x_scale, y_scale = 32 / X_train_sizes[ix]\n",
    "print(\"x_scale = {:.3f}\\ny_scale = {:.3f}\".format(y_scale, x_scale))"
   ]
  },
  {
   "cell_type": "markdown",
   "metadata": {
    "deletable": true,
    "editable": true
   },
   "source": [
    "Coords structure is (x1, y1, x2, y2)"
   ]
  },
  {
   "cell_type": "code",
   "execution_count": 11,
   "metadata": {
    "collapsed": false,
    "deletable": true,
    "editable": true
   },
   "outputs": [
    {
     "data": {
      "text/plain": [
       "array([ 6,  6, 66, 63], dtype=uint8)"
      ]
     },
     "execution_count": 11,
     "metadata": {},
     "output_type": "execute_result"
    }
   ],
   "source": [
    "X_train_coords[ix]"
   ]
  },
  {
   "cell_type": "code",
   "execution_count": 12,
   "metadata": {
    "collapsed": false,
    "deletable": true,
    "editable": true
   },
   "outputs": [],
   "source": [
    "# x1, x2 = [int(X_train_coords[ix][i] * x_scale) for i in (0, 2)]"
   ]
  },
  {
   "cell_type": "code",
   "execution_count": 13,
   "metadata": {
    "collapsed": false
   },
   "outputs": [],
   "source": [
    "x1, x2 = np.array(X_train_coords[ix][[0, 2]] * x_scale, np.uint8)"
   ]
  },
  {
   "cell_type": "code",
   "execution_count": 14,
   "metadata": {
    "collapsed": false,
    "deletable": true,
    "editable": true
   },
   "outputs": [],
   "source": [
    "# y1, y2 = [int(X_train_coords[EXAMPLE_IMG_INDEX][i] * y_scale) for i in (1, 3)]"
   ]
  },
  {
   "cell_type": "code",
   "execution_count": 15,
   "metadata": {
    "collapsed": true
   },
   "outputs": [],
   "source": [
    "y1, y2 = np.array(X_train_coords[ix][[1, 3]] * y_scale, np.uint8)"
   ]
  },
  {
   "cell_type": "code",
   "execution_count": 16,
   "metadata": {
    "collapsed": false,
    "deletable": true,
    "editable": true
   },
   "outputs": [
    {
     "data": {
      "text/plain": [
       "array([ 2,  2, 29, 29], dtype=uint8)"
      ]
     },
     "execution_count": 16,
     "metadata": {},
     "output_type": "execute_result"
    }
   ],
   "source": [
    "np.array([x1, y1, x2, y2])"
   ]
  },
  {
   "cell_type": "code",
   "execution_count": 17,
   "metadata": {
    "collapsed": false,
    "deletable": true,
    "editable": true,
    "scrolled": true
   },
   "outputs": [
    {
     "data": {
      "image/png": "[encoded data removed]",
      "text/plain": [
       "<matplotlib.figure.Figure at 0x7f77b6d24630>"
      ]
     },
     "metadata": {},
     "output_type": "display_data"
    }
   ],
   "source": [
    "img = cv2.rectangle(img, (x1, y1), (x2, y2), [0, 0, 0])\n",
    "plt.imshow(img)\n",
    "plt.show()"
   ]
  },
  {
   "cell_type": "code",
   "execution_count": 18,
   "metadata": {
    "collapsed": false,
    "deletable": true,
    "editable": true
   },
   "outputs": [
    {
     "data": {
      "text/plain": [
       "array([[[ 2, 29],\n",
       "        [ 2,  2],\n",
       "        [29,  2],\n",
       "        [29, 29]]], dtype=int32)"
      ]
     },
     "execution_count": 18,
     "metadata": {},
     "output_type": "execute_result"
    }
   ],
   "source": [
    "ignore_mask_color = 255\n",
    "\n",
    "left_top = [x1, y1]\n",
    "left_bottom = [x1, y2]\n",
    "right_top = [x2, y1]\n",
    "right_bottom = [x2, y2]\n",
    "\n",
    "vertices = np.array([[left_bottom, left_top, right_top, right_bottom]], np.int32)\n",
    "vertices"
   ]
  },
  {
   "cell_type": "code",
   "execution_count": 19,
   "metadata": {
    "collapsed": false,
    "deletable": true,
    "editable": true
   },
   "outputs": [
    {
     "data": {
      "image/png": "[encoded data removed]",
      "text/plain": [
       "<matplotlib.figure.Figure at 0x7f77b6c61e10>"
      ]
     },
     "metadata": {},
     "output_type": "display_data"
    }
   ],
   "source": [
    "y_channel, _, _ = cv2.split(cv2.cvtColor(img, cv2.COLOR_RGB2YUV))\n",
    "mask = np.zeros_like(y_channel)\n",
    "cv2.fillPoly(mask, vertices, ignore_mask_color)\n",
    "masked_img = cv2.bitwise_and(y_channel, mask)\n",
    "\n",
    "plt.imshow(masked_img)\n",
    "plt.show()"
   ]
  },
  {
   "cell_type": "markdown",
   "metadata": {
    "deletable": true,
    "editable": true
   },
   "source": [
    "### Inspection to see if data is sorted\n",
    "\n",
    "The data looks sorted to some degree, therefore it will require shuffling before passing through the\n",
    "CNN."
   ]
  },
  {
   "cell_type": "code",
   "execution_count": 20,
   "metadata": {
    "collapsed": false,
    "deletable": true,
    "editable": true
   },
   "outputs": [
    {
     "data": {
      "text/plain": [
       "array([41, 41, 41, 41, 41, 41, 41, 41, 41], dtype=uint8)"
      ]
     },
     "execution_count": 20,
     "metadata": {},
     "output_type": "execute_result"
    }
   ],
   "source": [
    "y_train[:9]"
   ]
  },
  {
   "cell_type": "code",
   "execution_count": 21,
   "metadata": {
    "collapsed": false,
    "deletable": true,
    "editable": true
   },
   "outputs": [
    {
     "data": {
      "text/plain": [
       "array([21, 21, 21, 21, 21, 21, 21, 21, 21], dtype=uint8)"
      ]
     },
     "execution_count": 21,
     "metadata": {},
     "output_type": "execute_result"
    }
   ],
   "source": [
    "y_train[25786:25795]"
   ]
  },
  {
   "cell_type": "code",
   "execution_count": 22,
   "metadata": {
    "collapsed": false,
    "deletable": true,
    "editable": true
   },
   "outputs": [],
   "source": [
    "classes = Counter()\n",
    "\n",
    "for y in y_train:\n",
    "    classes[y] += 1"
   ]
  },
  {
   "cell_type": "markdown",
   "metadata": {
    "deletable": true,
    "editable": true
   },
   "source": [
    "### Inspection to ensure enough observations exist for each class"
   ]
  },
  {
   "cell_type": "code",
   "execution_count": 23,
   "metadata": {
    "collapsed": false,
    "deletable": true,
    "editable": true
   },
   "outputs": [
    {
     "data": {
      "text/plain": [
       "[(2, 2010),\n",
       " (1, 1980),\n",
       " (13, 1920),\n",
       " (12, 1890),\n",
       " (38, 1860),\n",
       " (10, 1800),\n",
       " (4, 1770),\n",
       " (5, 1650),\n",
       " (25, 1350),\n",
       " (9, 1320)]"
      ]
     },
     "execution_count": 23,
     "metadata": {},
     "output_type": "execute_result"
    }
   ],
   "source": [
    "classes.most_common(10)"
   ]
  },
  {
   "cell_type": "code",
   "execution_count": 24,
   "metadata": {
    "collapsed": false,
    "deletable": true,
    "editable": true
   },
   "outputs": [
    {
     "data": {
      "text/plain": [
       "[(37, 180),\n",
       " (19, 180),\n",
       " (0, 180),\n",
       " (42, 210),\n",
       " (41, 210),\n",
       " (32, 210),\n",
       " (27, 210),\n",
       " (29, 240),\n",
       " (24, 240)]"
      ]
     },
     "execution_count": 24,
     "metadata": {},
     "output_type": "execute_result"
    }
   ],
   "source": [
    "# 10 least common\n",
    "classes.most_common()[:-10:-1]  "
   ]
  },
  {
   "cell_type": "code",
   "execution_count": 25,
   "metadata": {
    "collapsed": false,
    "deletable": true,
    "editable": true,
    "scrolled": true
   },
   "outputs": [
    {
     "data": {
      "image/png": "[encoded data removed]",
      "text/plain": [
       "<matplotlib.figure.Figure at 0x7f77b6bae860>"
      ]
     },
     "metadata": {},
     "output_type": "display_data"
    }
   ],
   "source": [
    "df = pd.Series(classes)\n",
    "df.plot(kind=\"bar\", figsize=(12,2))\n",
    "\n",
    "plt.title(\"Number of observations per class\")\n",
    "plt.xlabel(\"class\")\n",
    "plt.ylabel(\"frequency\")\n",
    "plt.show()"
   ]
  },
  {
   "cell_type": "markdown",
   "metadata": {},
   "source": [
    "### Demonstrate augmented data to make n_obs per class more uniform"
   ]
  },
  {
   "cell_type": "markdown",
   "metadata": {},
   "source": [
    "Set target number of images for each class to be double the max:\n",
    "  * class '2' has 2010 observations\n",
    "  * therefore the target should be 4020"
   ]
  },
  {
   "cell_type": "code",
   "execution_count": 26,
   "metadata": {
    "collapsed": false
   },
   "outputs": [
    {
     "data": {
      "text/plain": [
       "4020"
      ]
     },
     "execution_count": 26,
     "metadata": {},
     "output_type": "execute_result"
    }
   ],
   "source": [
    "target_images_per_class = classes.most_common(1)[0][1] * 2\n",
    "target_images_per_class"
   ]
  },
  {
   "cell_type": "code",
   "execution_count": 27,
   "metadata": {
    "collapsed": false
   },
   "outputs": [
    {
     "data": {
      "text/plain": [
       "{0: 22,\n",
       " 1: 2,\n",
       " 2: 2,\n",
       " 3: 3,\n",
       " 4: 2,\n",
       " 5: 2,\n",
       " 6: 11,\n",
       " 7: 3,\n",
       " 8: 3,\n",
       " 9: 3,\n",
       " 10: 2,\n",
       " 11: 3,\n",
       " 12: 2,\n",
       " 13: 2,\n",
       " 14: 6,\n",
       " 15: 7,\n",
       " 16: 11,\n",
       " 17: 4,\n",
       " 18: 4,\n",
       " 19: 22,\n",
       " 20: 13,\n",
       " 21: 15,\n",
       " 22: 12,\n",
       " 23: 9,\n",
       " 24: 17,\n",
       " 25: 3,\n",
       " 26: 7,\n",
       " 27: 19,\n",
       " 28: 8,\n",
       " 29: 17,\n",
       " 30: 10,\n",
       " 31: 6,\n",
       " 32: 19,\n",
       " 33: 7,\n",
       " 34: 11,\n",
       " 35: 4,\n",
       " 36: 12,\n",
       " 37: 22,\n",
       " 38: 2,\n",
       " 39: 15,\n",
       " 40: 13,\n",
       " 41: 19,\n",
       " 42: 19}"
      ]
     },
     "execution_count": 27,
     "metadata": {},
     "output_type": "execute_result"
    }
   ],
   "source": [
    "replication_factors = dict()\n",
    "\n",
    "for class_num, n_obs in classes.items():\n",
    "    replication_factors[class_num] = round(target_images_per_class / n_obs)\n",
    "    \n",
    "replication_factors"
   ]
  },
  {
   "cell_type": "code",
   "execution_count": 28,
   "metadata": {
    "collapsed": false
   },
   "outputs": [
    {
     "data": {
      "image/png": "[encoded data removed]",
      "text/plain": [
       "<matplotlib.figure.Figure at 0x7f77b6aa06a0>"
      ]
     },
     "metadata": {},
     "output_type": "display_data"
    }
   ],
   "source": [
    "rows, cols = masked_img.shape\n",
    "\n",
    "x1 = 5\n",
    "x2 = 25\n",
    "y1 = 5\n",
    "y2 = 25\n",
    "\n",
    "left_top = [x1, y1]\n",
    "left_bottom = [x1, y2]\n",
    "right_top = [x2, y1]\n",
    "\n",
    "n_plots = 5\n",
    "\n",
    "fig = plt.figure(figsize=(15, 10))\n",
    "ax = fig.add_subplot(1, n_plots + 1, 1)\n",
    "ax.imshow(masked_img)\n",
    "ax.set_title('masked image')\n",
    "    \n",
    "for i in range(n_plots):\n",
    "    warp = np.random.uniform(-5, 5, size=6)\n",
    "\n",
    "    warp_left_top = [x1 + warp[0], y1 + warp[1]]\n",
    "    warp_left_bottom = [x1 + warp[2], y2 + warp[3]]\n",
    "    warp_right_top = [x2 + warp[4], y1 + warp[5]]\n",
    "\n",
    "    pts1 = np.float32([left_top, left_bottom, right_top])\n",
    "    pts2 = np.float32([warp_left_top, warp_left_bottom, warp_right_top])\n",
    "\n",
    "    M = cv2.getAffineTransform(pts1, pts2)\n",
    "    dst = cv2.warpAffine(masked_img, M, (cols,rows))\n",
    "\n",
    "    ax = fig.add_subplot(1, n_plots + 1, i + 2)\n",
    "    ax.imshow(dst)\n",
    "    ax.set_title('transform {}'.format(i + 1))"
   ]
  },
  {
   "cell_type": "code",
   "execution_count": 29,
   "metadata": {
    "collapsed": false,
    "deletable": true,
    "editable": true
   },
   "outputs": [],
   "source": [
    "del classes, df, x_scale, y_scale, x1, y1, x2, y2, ignore_mask_color\n",
    "del left_bottom, left_top, right_top, right_bottom\n",
    "del vertices, y_channel, mask, masked_img, img"
   ]
  },
  {
   "cell_type": "markdown",
   "metadata": {
    "deletable": true,
    "editable": true
   },
   "source": [
    "----\n",
    "\n",
    "## Step 2: Design and Test a Model Architecture\n",
    "\n",
    "Design and implement a deep learning model that learns to recognize traffic signs. Train and test your model on the [German Traffic Sign Dataset](http://benchmark.ini.rub.de/?section=gtsrb&subsection=dataset).\n",
    "\n",
    "The LeNet-5 implementation shown in the [classroom](https://classroom.udacity.com/nanodegrees/nd013/parts/fbf77062-5703-404e-b60c-95b78b2f3f9e/modules/6df7ae49-c61c-4bb2-a23e-6527e69209ec/lessons/601ae704-1035-4287-8b11-e2c2716217ad/concepts/d4aca031-508f-4e0b-b493-e7b706120f81) at the end of the CNN lesson is a solid starting point. You'll have to change the number of classes and possibly the preprocessing, but aside from that it's plug and play! \n",
    "\n",
    "With the LeNet-5 solution from the lecture, you should expect a validation set accuracy of about 0.89. To meet specifications, the validation set accuracy will need to be at least 0.93. It is possible to get an even higher accuracy, but 0.93 is the minimum for a successful project submission. \n",
    "\n",
    "There are various aspects to consider when thinking about this problem:\n",
    "\n",
    "- Neural network architecture (is the network over or underfitting?)\n",
    "- Play around preprocessing techniques (normalization, rgb to grayscale, etc)\n",
    "- Number of examples per label (some have more than others).\n",
    "- Generate fake data.\n",
    "\n",
    "Here is an example of a [published baseline model on this problem](http://yann.lecun.com/exdb/publis/pdf/sermanet-ijcnn-11.pdf). It's not required to be familiar with the approach used in the paper but, it's good practice to try to read papers like these."
   ]
  },
  {
   "cell_type": "markdown",
   "metadata": {
    "deletable": true,
    "editable": true
   },
   "source": [
    "### Pre-process the Data Set (normalization, grayscale, etc.)"
   ]
  },
  {
   "cell_type": "markdown",
   "metadata": {
    "deletable": true,
    "editable": true
   },
   "source": [
    "Minimally, the image data should be normalized so that the data has mean zero and equal variance. For image data, `(pixel - 128)/ 128` is a quick way to approximately normalize the data and can be used in this project. \n",
    "\n",
    "Other pre-processing steps are optional. You can try different techniques to see if it improves performance. \n",
    "\n",
    "Use the code cell (or multiple code cells, if necessary) to implement the first step of your project."
   ]
  },
  {
   "cell_type": "markdown",
   "metadata": {
    "deletable": true,
    "editable": true
   },
   "source": [
    "### Region of interest"
   ]
  },
  {
   "cell_type": "code",
   "execution_count": 30,
   "metadata": {
    "collapsed": true,
    "deletable": true,
    "editable": true
   },
   "outputs": [],
   "source": [
    "def roi_scaled_coords(img_size, coords):\n",
    "    x_scale, y_scale = 32 / img_size\n",
    "    \n",
    "    x1, x2 = [int(coords[i] * x_scale) for i in (0, 2)]\n",
    "    y1, y2 = [int(coords[i] * y_scale) for i in (1, 3)]\n",
    "    \n",
    "    return x1, y1, x2, y2"
   ]
  },
  {
   "cell_type": "code",
   "execution_count": 31,
   "metadata": {
    "collapsed": true,
    "deletable": true,
    "editable": true
   },
   "outputs": [],
   "source": [
    "def roi_vertices(img_size, coords):\n",
    "#     x_scale, y_scale = 32 / img_size\n",
    "    \n",
    "#     x1, x2 = [int(coords[i] * x_scale) for i in (0, 2)]\n",
    "#     y1, y2 = [int(coords[i] * y_scale) for i in (1, 3)]\n",
    "#     scaled_coords = np.array([x1, y1, x2, y2])\n",
    "    x1, y1, x2, y2 = roi_scaled_coords(img_size, coords)\n",
    "    \n",
    "    left_top = [x1, y1]\n",
    "    left_bottom = [x1, y2]\n",
    "    right_top = [x2, y1]\n",
    "    right_bottom = [x2, y2]\n",
    "    \n",
    "    vertices = np.array([[left_bottom, left_top, right_top, right_bottom]])\n",
    "    \n",
    "    return vertices"
   ]
  },
  {
   "cell_type": "code",
   "execution_count": 32,
   "metadata": {
    "collapsed": true,
    "deletable": true,
    "editable": true
   },
   "outputs": [],
   "source": [
    "def roi_bounding_box(img, img_size, coords):\n",
    "    x1, y1, x2, y2 = roi_scaled_coords(img_size, coords)\n",
    "    \n",
    "    # remove colour from bounding box\n",
    "    roi_bbox_img = cv2.rectangle(img, (x1, y1), (x2, y2), [0, 0, 0])\n",
    "    \n",
    "    return roi_bbox_img"
   ]
  },
  {
   "cell_type": "code",
   "execution_count": 33,
   "metadata": {
    "collapsed": true,
    "deletable": true,
    "editable": true
   },
   "outputs": [],
   "source": [
    "def region_of_interest(img, vertices):\n",
    "    \"\"\"\n",
    "    Applies an image mask.\n",
    "    \n",
    "    Only keeps the region of the image defined by the polygon\n",
    "    formed from `vertices`. The rest of the image is set to black.\n",
    "    \"\"\"\n",
    "    #defining a blank mask to start with\n",
    "    mask = np.zeros_like(img)   \n",
    "    \n",
    "    #defining a 3 channel or 1 channel color to fill the mask with depending on the input image\n",
    "    if len(img.shape) > 2:\n",
    "        channel_count = img.shape[2]  # i.e. 3 or 4 depending on your image\n",
    "        ignore_mask_color = (255,) * channel_count\n",
    "    else:\n",
    "        ignore_mask_color = 255\n",
    "    \n",
    "    #filling pixels inside the polygon defined by \"vertices\" with the fill color\n",
    "    cv2.fillPoly(mask, vertices, ignore_mask_color)\n",
    "    \n",
    "    #returning the image only where mask pixels are nonzero\n",
    "    masked_image = cv2.bitwise_and(img, mask)\n",
    "    \n",
    "    return masked_image"
   ]
  },
  {
   "cell_type": "code",
   "execution_count": 34,
   "metadata": {
    "collapsed": false,
    "deletable": true,
    "editable": true
   },
   "outputs": [
    {
     "data": {
      "text/plain": [
       "(34799, 32, 32, 3)"
      ]
     },
     "execution_count": 34,
     "metadata": {},
     "output_type": "execute_result"
    }
   ],
   "source": [
    "X_train_vertices = np.array([roi_vertices(size, coords) for size, coords in zip(X_train_sizes, X_train_coords)])\n",
    "X_train_bbox = np.array([roi_bounding_box(img, size, coords) for img, size, coords in zip(X_train, X_train_sizes, X_train_coords)])\n",
    "X_train_roi = np.array([region_of_interest(img, vertices) for img, vertices in zip(X_train_bbox, X_train_vertices)])\n",
    "X_train_roi.shape"
   ]
  },
  {
   "cell_type": "code",
   "execution_count": 35,
   "metadata": {
    "collapsed": false,
    "deletable": true,
    "editable": true
   },
   "outputs": [
    {
     "name": "stdout",
     "output_type": "stream",
     "text": [
      "33\n",
      "(32, 32, 3)\n"
     ]
    },
    {
     "data": {
      "image/png": "[encoded data removed]",
      "text/plain": [
       "<matplotlib.figure.Figure at 0x7f77b4b844a8>"
      ]
     },
     "metadata": {},
     "output_type": "display_data"
    },
    {
     "name": "stdout",
     "output_type": "stream",
     "text": [
      "[[[0 0 0]\n",
      "  [0 0 0]\n",
      "  [0 0 0]\n",
      "  ..., \n",
      "  [0 0 0]\n",
      "  [0 0 0]\n",
      "  [0 0 0]]\n",
      "\n",
      " [[0 0 0]\n",
      "  [0 0 0]\n",
      "  [0 0 0]\n",
      "  ..., \n",
      "  [0 0 0]\n",
      "  [0 0 0]\n",
      "  [0 0 0]]\n",
      "\n",
      " [[0 0 0]\n",
      "  [0 0 0]\n",
      "  [0 0 0]\n",
      "  ..., \n",
      "  [0 0 0]\n",
      "  [0 0 0]\n",
      "  [0 0 0]]\n",
      "\n",
      " ..., \n",
      " [[0 0 0]\n",
      "  [0 0 0]\n",
      "  [0 0 0]\n",
      "  ..., \n",
      "  [0 0 0]\n",
      "  [0 0 0]\n",
      "  [0 0 0]]\n",
      "\n",
      " [[0 0 0]\n",
      "  [0 0 0]\n",
      "  [0 0 0]\n",
      "  ..., \n",
      "  [0 0 0]\n",
      "  [0 0 0]\n",
      "  [0 0 0]]\n",
      "\n",
      " [[0 0 0]\n",
      "  [0 0 0]\n",
      "  [0 0 0]\n",
      "  ..., \n",
      "  [0 0 0]\n",
      "  [0 0 0]\n",
      "  [0 0 0]]]\n"
     ]
    }
   ],
   "source": [
    "helpers.print_example(X_train_roi, y_train)"
   ]
  },
  {
   "cell_type": "markdown",
   "metadata": {
    "deletable": true,
    "editable": true
   },
   "source": [
    "### Convert images to grayscale"
   ]
  },
  {
   "cell_type": "code",
   "execution_count": 36,
   "metadata": {
    "collapsed": true,
    "deletable": true,
    "editable": true
   },
   "outputs": [],
   "source": [
    "def grayscale(img):\n",
    "    \"\"\"Applies the Grayscale transform\n",
    "    This will return an image with only one color channel\n",
    "    but NOTE: to see the returned image as grayscale\n",
    "    (assuming your grayscaled image is called 'gray')\n",
    "    you should call plt.imshow(gray, cmap='gray')\"\"\"\n",
    "    return cv2.cvtColor(img, cv2.COLOR_RGB2GRAY)"
   ]
  },
  {
   "cell_type": "code",
   "execution_count": 37,
   "metadata": {
    "collapsed": false,
    "deletable": true,
    "editable": true
   },
   "outputs": [
    {
     "data": {
      "text/plain": [
       "(34799, 32, 32)"
      ]
     },
     "execution_count": 37,
     "metadata": {},
     "output_type": "execute_result"
    }
   ],
   "source": [
    "X_train_gray = np.array([grayscale(img) for img in X_train_roi])\n",
    "X_train_gray.shape"
   ]
  },
  {
   "cell_type": "code",
   "execution_count": 38,
   "metadata": {
    "collapsed": false,
    "deletable": true,
    "editable": true
   },
   "outputs": [
    {
     "name": "stdout",
     "output_type": "stream",
     "text": [
      "33\n",
      "(32, 32)\n"
     ]
    },
    {
     "data": {
      "image/png": "[encoded data removed]",
      "text/plain": [
       "<matplotlib.figure.Figure at 0x7f77b6b41dd8>"
      ]
     },
     "metadata": {},
     "output_type": "display_data"
    },
    {
     "name": "stdout",
     "output_type": "stream",
     "text": [
      "[[0 0 0 ..., 0 0 0]\n",
      " [0 0 0 ..., 0 0 0]\n",
      " [0 0 0 ..., 0 0 0]\n",
      " ..., \n",
      " [0 0 0 ..., 0 0 0]\n",
      " [0 0 0 ..., 0 0 0]\n",
      " [0 0 0 ..., 0 0 0]]\n"
     ]
    }
   ],
   "source": [
    "helpers.print_example(X_train_gray, y_train)"
   ]
  },
  {
   "cell_type": "markdown",
   "metadata": {
    "deletable": true,
    "editable": true
   },
   "source": [
    "### Normalise"
   ]
  },
  {
   "cell_type": "code",
   "execution_count": 39,
   "metadata": {
    "collapsed": true,
    "deletable": true,
    "editable": true
   },
   "outputs": [],
   "source": [
    "def normalise(img):\n",
    "    \"\"\"\n",
    "    Normalize a list of sample image data in the range of 0 to 1\n",
    "    : x: List of image data.\n",
    "    : return: Numpy array of normalize data\n",
    "    \"\"\"\n",
    "    return np.array(img / 255.0, dtype=np.float32)"
   ]
  },
  {
   "cell_type": "code",
   "execution_count": 40,
   "metadata": {
    "collapsed": false,
    "deletable": true,
    "editable": true
   },
   "outputs": [
    {
     "data": {
      "text/plain": [
       "(34799, 32, 32)"
      ]
     },
     "execution_count": 40,
     "metadata": {},
     "output_type": "execute_result"
    }
   ],
   "source": [
    "X_train_norm = np.array([normalise(img) for img in X_train_gray])\n",
    "X_train_norm.shape"
   ]
  },
  {
   "cell_type": "code",
   "execution_count": 41,
   "metadata": {
    "collapsed": false,
    "deletable": true,
    "editable": true
   },
   "outputs": [
    {
     "name": "stdout",
     "output_type": "stream",
     "text": [
      "33\n",
      "(32, 32)\n"
     ]
    },
    {
     "data": {
      "image/png": "[encoded data removed]",
      "text/plain": [
       "<matplotlib.figure.Figure at 0x7f77b6a56748>"
      ]
     },
     "metadata": {},
     "output_type": "display_data"
    },
    {
     "name": "stdout",
     "output_type": "stream",
     "text": [
      "[[ 0.  0.  0. ...,  0.  0.  0.]\n",
      " [ 0.  0.  0. ...,  0.  0.  0.]\n",
      " [ 0.  0.  0. ...,  0.  0.  0.]\n",
      " ..., \n",
      " [ 0.  0.  0. ...,  0.  0.  0.]\n",
      " [ 0.  0.  0. ...,  0.  0.  0.]\n",
      " [ 0.  0.  0. ...,  0.  0.  0.]]\n"
     ]
    }
   ],
   "source": [
    "helpers.print_example(X_train_norm, y_train)"
   ]
  },
  {
   "cell_type": "markdown",
   "metadata": {},
   "source": [
    "### Augment data"
   ]
  },
  {
   "cell_type": "code",
   "execution_count": 42,
   "metadata": {
    "collapsed": true
   },
   "outputs": [],
   "source": [
    "def affine_transform(img):\n",
    "    \"\"\"\n",
    "    Performs affine transformation of an image\n",
    "    \n",
    "    img       -> image to transform\n",
    "    \"\"\"\n",
    "    # currently hardcoded to deal with 2D images only\n",
    "    # use the line below to capture channel count when\n",
    "    # using images > 2D\n",
    "    #   -> rows, cols, ch = img.shape\n",
    "    rows, cols = img.shape\n",
    "    output_size  = (cols, rows)\n",
    "\n",
    "    # The bellow show relative position within the image\n",
    "    # that the 'anchors' will be set to\n",
    "    # These anchors are then later randomly 'jittered',\n",
    "    # which then allows us to warp the image based on the\n",
    "    # new position of the jittered anchors.\n",
    "    #   -> lt = left_top\n",
    "    #   -> lb = left_bottom\n",
    "    #   -> rt = right_top\n",
    "    #\n",
    "    # +-------------+\n",
    "    # |  lt      rt |\n",
    "    # |             |\n",
    "    # |             |\n",
    "    # |             |\n",
    "    # |  lb         |\n",
    "    # +-------------+\n",
    "    x1 = 5\n",
    "    x2 = 25\n",
    "    y1 = 5\n",
    "    y2 = 25\n",
    "\n",
    "    # anchor positions\n",
    "    # note the 6 seperate parameters (even though only four variables are used)\n",
    "    left_top = [x1, y1]\n",
    "    left_bottom = [x1, y2]\n",
    "    right_top = [x2, y1]\n",
    "    \n",
    "    # generate 6 random warps to apply to the 6 parameters\n",
    "    warp = np.random.uniform(-5, 5, size=6)\n",
    "\n",
    "    # warped anchor postions\n",
    "    warp_left_top = [x1 + warp[0], y1 + warp[1]]\n",
    "    warp_left_bottom = [x1 + warp[2], y2 + warp[3]]\n",
    "    warp_right_top = [x2 + warp[4], y1 + warp[5]]\n",
    "\n",
    "    anchors = np.float32([left_top, left_bottom, right_top])\n",
    "    jittered = np.float32([warp_left_top, warp_left_bottom, warp_right_top])\n",
    "\n",
    "    M = cv2.getAffineTransform(anchors, jittered)\n",
    "    warped_image = cv2.warpAffine(img, M, output_size)\n",
    "            \n",
    "    return np.array(warped_image)"
   ]
  },
  {
   "cell_type": "code",
   "execution_count": 43,
   "metadata": {
    "collapsed": true
   },
   "outputs": [],
   "source": [
    "def replicated_affine_transform(img, one_hot_class, replication_factor=1):\n",
    "    \"\"\"\n",
    "    Augments data by performing affine transformations of an image\n",
    "    \n",
    "    img       -> image to transform\n",
    "    replicate -> the number of transformations to perform\n",
    "    \"\"\"\n",
    "    transforms = []\n",
    "    one_hot_classes = [one_hot_class] * replication_factor\n",
    "    \n",
    "    for i in range(replication_factor):\n",
    "        transforms.append(affine_transform(img))\n",
    "        \n",
    "    return transforms, one_hot_classes"
   ]
  },
  {
   "cell_type": "code",
   "execution_count": 44,
   "metadata": {
    "collapsed": false
   },
   "outputs": [
    {
     "name": "stderr",
     "output_type": "stream",
     "text": [
      "34799it [00:08, 4214.09it/s]\n"
     ]
    }
   ],
   "source": [
    "X_augmentations = []\n",
    "y_augmentations = []\n",
    "\n",
    "for img, y in tqdm(zip(X_train_norm, y_train)):\n",
    "    replication_factor = replication_factors.get(y)\n",
    "    X_augmented, y_augmented = replicated_affine_transform(img, y, replication_factor)\n",
    "\n",
    "    X_augmentations += X_augmented\n",
    "    y_augmentations += y_augmented\n",
    "\n",
    "X_train_augmented = np.concatenate([X_train_norm, np.array(X_augmentations)])\n",
    "y_train_augmented = np.concatenate([y_train, np.array(y_augmentations)])"
   ]
  },
  {
   "cell_type": "code",
   "execution_count": 45,
   "metadata": {
    "collapsed": false
   },
   "outputs": [
    {
     "data": {
      "text/plain": [
       "(203632, 32, 32)"
      ]
     },
     "execution_count": 45,
     "metadata": {},
     "output_type": "execute_result"
    }
   ],
   "source": [
    "X_train_augmented.shape"
   ]
  },
  {
   "cell_type": "code",
   "execution_count": 46,
   "metadata": {
    "collapsed": false
   },
   "outputs": [
    {
     "data": {
      "text/plain": [
       "(203632,)"
      ]
     },
     "execution_count": 46,
     "metadata": {},
     "output_type": "execute_result"
    }
   ],
   "source": [
    "y_train_augmented.shape"
   ]
  },
  {
   "cell_type": "code",
   "execution_count": 47,
   "metadata": {
    "collapsed": true
   },
   "outputs": [],
   "source": [
    "augmented_classes = Counter()\n",
    "\n",
    "for y in y_train_augmented:\n",
    "    augmented_classes[y] += 1"
   ]
  },
  {
   "cell_type": "code",
   "execution_count": 48,
   "metadata": {
    "collapsed": false
   },
   "outputs": [
    {
     "data": {
      "image/png": "[encoded data removed]",
      "text/plain": [
       "<matplotlib.figure.Figure at 0x7f77b6d45c88>"
      ]
     },
     "metadata": {},
     "output_type": "display_data"
    }
   ],
   "source": [
    "df = pd.Series(augmented_classes)\n",
    "df.plot(kind=\"bar\", figsize=(12,2))\n",
    "\n",
    "plt.title(\"Number of observations per class\")\n",
    "plt.xlabel(\"class\")\n",
    "plt.ylabel(\"frequency\")\n",
    "plt.show()"
   ]
  },
  {
   "cell_type": "markdown",
   "metadata": {
    "deletable": true,
    "editable": true
   },
   "source": [
    "### Shuffle"
   ]
  },
  {
   "cell_type": "code",
   "execution_count": 49,
   "metadata": {
    "collapsed": false,
    "deletable": true,
    "editable": true
   },
   "outputs": [],
   "source": [
    "X_train_shuffled, y_train_shuffled = shuffle(X_train_augmented, y_train_augmented)"
   ]
  },
  {
   "cell_type": "code",
   "execution_count": 50,
   "metadata": {
    "collapsed": false,
    "deletable": true,
    "editable": true
   },
   "outputs": [
    {
     "data": {
      "text/plain": [
       "array([28, 23,  8, 28,  6, 12,  7,  9, 24], dtype=uint8)"
      ]
     },
     "execution_count": 50,
     "metadata": {},
     "output_type": "execute_result"
    }
   ],
   "source": [
    "y_train_shuffled[:9]"
   ]
  },
  {
   "cell_type": "code",
   "execution_count": 51,
   "metadata": {
    "collapsed": false,
    "deletable": true,
    "editable": true,
    "scrolled": true
   },
   "outputs": [
    {
     "name": "stdout",
     "output_type": "stream",
     "text": [
      "7\n",
      "(32, 32)\n"
     ]
    },
    {
     "data": {
      "image/png": "[encoded data removed]",
      "text/plain": [
       "<matplotlib.figure.Figure at 0x7f77b1076198>"
      ]
     },
     "metadata": {},
     "output_type": "display_data"
    },
    {
     "name": "stdout",
     "output_type": "stream",
     "text": [
      "[[ 0.  0.  0. ...,  0.  0.  0.]\n",
      " [ 0.  0.  0. ...,  0.  0.  0.]\n",
      " [ 0.  0.  0. ...,  0.  0.  0.]\n",
      " ..., \n",
      " [ 0.  0.  0. ...,  0.  0.  0.]\n",
      " [ 0.  0.  0. ...,  0.  0.  0.]\n",
      " [ 0.  0.  0. ...,  0.  0.  0.]]\n"
     ]
    }
   ],
   "source": [
    "helpers.print_example(X_train_shuffled, y_train_shuffled)"
   ]
  },
  {
   "cell_type": "markdown",
   "metadata": {},
   "source": [
    "# Main"
   ]
  },
  {
   "cell_type": "markdown",
   "metadata": {},
   "source": [
    "### Pre-process data"
   ]
  },
  {
   "cell_type": "code",
   "execution_count": 52,
   "metadata": {
    "collapsed": true,
    "deletable": true,
    "editable": true
   },
   "outputs": [],
   "source": [
    "### Preprocess the data here. It is required to normalize the data. Other preprocessing steps could include \n",
    "### converting to grayscale, etc.\n",
    "### Feel free to use as many code cells as needed.\n",
    "def preprocess_data(X, y, X_sizes, X_coords):\n",
    "    \n",
    "    X_vertices = [roi_vertices(size, coords) for size, coords in zip(X_sizes, X_coords)]\n",
    "\n",
    "    X = [grayscale(x) for x in X]\n",
    "    X = [roi_bounding_box(x, size, coords) for x, size, coords in zip(X, X_sizes, X_coords)]\n",
    "    X = [region_of_interest(x, vertices) for x, vertices in zip(X, X_vertices)]\n",
    "    X = [normalise(x) for x in X]\n",
    "#     X = [np.reshape(img, [32, 32, 1]) for img in X]\n",
    "    \n",
    "    return np.array(X)"
   ]
  },
  {
   "cell_type": "code",
   "execution_count": 53,
   "metadata": {
    "collapsed": false,
    "deletable": true,
    "editable": true
   },
   "outputs": [],
   "source": [
    "X_train = preprocess_data(X_train, y_train, X_train_sizes, X_train_coords)\n",
    "X_validation = preprocess_data(X_validation, y_validation, X_validation_sizes, X_validation_coords)"
   ]
  },
  {
   "cell_type": "code",
   "execution_count": 54,
   "metadata": {
    "collapsed": false
   },
   "outputs": [
    {
     "data": {
      "text/plain": [
       "(32, 32)"
      ]
     },
     "execution_count": 54,
     "metadata": {},
     "output_type": "execute_result"
    }
   ],
   "source": [
    "X_train[0].shape"
   ]
  },
  {
   "cell_type": "markdown",
   "metadata": {},
   "source": [
    "### Augment data"
   ]
  },
  {
   "cell_type": "code",
   "execution_count": 55,
   "metadata": {
    "collapsed": true,
    "deletable": true,
    "editable": true
   },
   "outputs": [],
   "source": [
    "def augment_data(X_train, y_train):\n",
    "    classes = Counter()\n",
    "    replication_factors = dict()\n",
    "    X_augmentations = []\n",
    "    y_augmentations = []\n",
    "\n",
    "    # get counts of classes\n",
    "    for y in y_train:\n",
    "        classes[y] += 1\n",
    "\n",
    "    # set target count per class based on class with max count\n",
    "    # currently set to be twice the max\n",
    "    target_images_per_class = classes.most_common(1)[0][1] * 2\n",
    "\n",
    "    # determine replication factors for each image to aim for uniform\n",
    "    # observations frequency counts\n",
    "    for class_num, n_obs in classes.items():\n",
    "        replication_factors[class_num] = round(target_images_per_class / n_obs)\n",
    "\n",
    "    # perform affine transforms for each image based on the replication factor\n",
    "    for img, y in zip(X_train, y_train):\n",
    "        replication_factor = replication_factors.get(y)\n",
    "        X_augmented, y_augmented = replicated_affine_transform(img, y, replication_factor)\n",
    "\n",
    "        X_augmentations += X_augmented\n",
    "        y_augmentations += y_augmented\n",
    "\n",
    "    # augment the training sets\n",
    "    X_train = np.concatenate([X_train_norm, np.array(X_augmentations)])\n",
    "    y_train = np.concatenate([y_train, np.array(y_augmentations)])\n",
    "    \n",
    "    return X_train, y_train"
   ]
  },
  {
   "cell_type": "code",
   "execution_count": 56,
   "metadata": {
    "collapsed": true
   },
   "outputs": [],
   "source": [
    "X_train, y_train = augment_data(X_train, y_train)"
   ]
  },
  {
   "cell_type": "code",
   "execution_count": 57,
   "metadata": {
    "collapsed": false
   },
   "outputs": [],
   "source": [
    "X_train = np.array([np.reshape(x, [32, 32, 1]) for x in X_train])\n",
    "X_validation = np.array([np.reshape(x, [32, 32, 1]) for x in X_validation])"
   ]
  },
  {
   "cell_type": "code",
   "execution_count": 58,
   "metadata": {
    "collapsed": false
   },
   "outputs": [
    {
     "data": {
      "text/plain": [
       "(32, 32, 1)"
      ]
     },
     "execution_count": 58,
     "metadata": {},
     "output_type": "execute_result"
    }
   ],
   "source": [
    "X_train[0].shape"
   ]
  },
  {
   "cell_type": "code",
   "execution_count": 59,
   "metadata": {
    "collapsed": false,
    "deletable": true,
    "editable": true
   },
   "outputs": [
    {
     "data": {
      "text/plain": [
       "(203632, 32, 32, 1)"
      ]
     },
     "execution_count": 59,
     "metadata": {},
     "output_type": "execute_result"
    }
   ],
   "source": [
    "X_train.shape"
   ]
  },
  {
   "cell_type": "code",
   "execution_count": 60,
   "metadata": {
    "collapsed": false
   },
   "outputs": [
    {
     "data": {
      "text/plain": [
       "(203632,)"
      ]
     },
     "execution_count": 60,
     "metadata": {},
     "output_type": "execute_result"
    }
   ],
   "source": [
    "y_train.shape"
   ]
  },
  {
   "cell_type": "code",
   "execution_count": 61,
   "metadata": {
    "collapsed": false,
    "deletable": true,
    "editable": true
   },
   "outputs": [
    {
     "data": {
      "text/plain": [
       "(4410, 32, 32, 1)"
      ]
     },
     "execution_count": 61,
     "metadata": {},
     "output_type": "execute_result"
    }
   ],
   "source": [
    "X_validation.shape"
   ]
  },
  {
   "cell_type": "markdown",
   "metadata": {
    "deletable": true,
    "editable": true
   },
   "source": [
    "## Model Architecture"
   ]
  },
  {
   "cell_type": "code",
   "execution_count": 62,
   "metadata": {
    "collapsed": false,
    "deletable": true,
    "editable": true
   },
   "outputs": [],
   "source": [
    "# http://stackoverflow.com/a/43011613/893766\n",
    "# https://arxiv.org/pdf/1511.07289.pdf\n",
    "def inception_module(x, mu, sigma, in_channels, n_filters):\n",
    "    # bias dimension = 3*filter_count and then the extra in_channels for the avg pooling\n",
    "    bias = tf.Variable(tf.zeros([3 * n_filters + in_channels]))\n",
    "\n",
    "    # 1x1\n",
    "    one_filter = tf.Variable(tf.truncated_normal([1, 1, in_channels, n_filters], mu, sigma))\n",
    "    one_by_one = tf.nn.conv2d(x, one_filter, strides=[1, 1, 1, 1], padding='SAME')\n",
    "\n",
    "    # 3x3\n",
    "    three_filter = tf.Variable(tf.truncated_normal([3, 3, in_channels, n_filters], mu, sigma))\n",
    "    three_by_three = tf.nn.conv2d(one_by_one, three_filter, strides=[1, 1, 1, 1], padding='SAME')\n",
    "\n",
    "    # 5x5\n",
    "    five_filter = tf.Variable(tf.truncated_normal([5, 5, in_channels, n_filters], mu, sigma))\n",
    "    five_by_five = tf.nn.conv2d(one_by_one, five_filter, strides=[1, 1, 1, 1], padding='SAME')\n",
    "\n",
    "    # avg pooling\n",
    "    pooling = tf.nn.avg_pool(x, ksize=[1, 3, 3, 1], strides=[1, 1, 1, 1], padding='SAME')\n",
    "    pooling = tf.nn.conv2d(pooling, one_filter, strides=[1, 1, 1, 1], padding='SAME')\n",
    "\n",
    "    # tensorflow 1.0+ -> use tf.concat(), NOT tf.concat_v2()\n",
    "    x = tf.concat_v2([one_by_one, three_by_three, five_by_five, pooling], 3)\n",
    "    x = tf.nn.bias_add(x, bias)\n",
    "    \n",
    "    return tf.nn.elu(x)"
   ]
  },
  {
   "cell_type": "code",
   "execution_count": 63,
   "metadata": {
    "collapsed": true,
    "deletable": true,
    "editable": true
   },
   "outputs": [],
   "source": [
    "# http://www.cs.toronto.edu/~guerzhoy/321/lec/W06/convnets.pdf\n",
    "def inception(x, mu, sigma, in_channels, n_filters, keep_prob):\n",
    "    \n",
    "    # inception module\n",
    "    i1 = inception_module(x, mu, sigma, in_channels, n_filters)\n",
    "    \n",
    "    # flatten\n",
    "    fc0 = tfcl.flatten(i1)\n",
    "    \n",
    "    # fully connected layer 1\n",
    "    fc1 = tfcl.fully_connected(fc0, 1024, activation_fn=tf.nn.elu)\n",
    "    fc1 = tf.nn.dropout(fc1, keep_prob)\n",
    "\n",
    "    # fully connected layer 2\n",
    "    fc2 = tfcl.fully_connected(fc1, 512, activation_fn=tf.nn.elu)\n",
    "    fc2 = tf.nn.dropout(fc2, keep_prob)\n",
    "\n",
    "    # logits / output layer / fully connected layer 3\n",
    "    logits = tfcl.fully_connected(fc2, 43, activation_fn=None)\n",
    "\n",
    "    return logits"
   ]
  },
  {
   "cell_type": "code",
   "execution_count": 64,
   "metadata": {
    "collapsed": true,
    "deletable": true,
    "editable": true
   },
   "outputs": [],
   "source": [
    "### Define your architecture here.\n",
    "### Feel free to use as many code cells as needed.\n",
    "\n",
    "# http://yann.lecun.com/exdb/publis/pdf/sermanet-ijcnn-11.pdf\n",
    "def LeNet(x, mu, sigma, in_channels, n_filters, keep_prob): \n",
    "    # Layer 1: Convolutional. Input = 32x32x1. Output = 28x28x6.\n",
    "    conv1_W = tf.Variable(tf.truncated_normal(shape=(5, 5, 1, 6), mean = mu, stddev = sigma))\n",
    "    conv1_b = tf.Variable(tf.zeros(6))\n",
    "    conv1 = tf.nn.conv2d(x, conv1_W, strides=[1, 1, 1, 1], padding='VALID') + conv1_b\n",
    "    conv1 = tf.nn.elu(conv1)\n",
    "    # Pooling. Input = 28x28x6. Output = 14x14x6.\n",
    "    conv1 = tf.nn.max_pool(conv1, ksize=[1, 2, 2, 1], strides=[1, 2, 2, 1], padding='VALID')\n",
    "\n",
    "    # Layer 2: Convolutional. Output = 10x10x16.\n",
    "    conv2_W = tf.Variable(tf.truncated_normal(shape=(5, 5, 6, 16), mean = mu, stddev = sigma))\n",
    "    conv2_b = tf.Variable(tf.zeros(16))\n",
    "    conv2 = tf.nn.conv2d(conv1, conv2_W, strides=[1, 1, 1, 1], padding='VALID') + conv2_b\n",
    "    conv2 = tf.nn.elu(conv2)\n",
    "    # Pooling. Input = 10x10x16. Output = 5x5x16.\n",
    "    conv2 = tf.nn.max_pool(conv2, ksize=[1, 2, 2, 1], strides=[1, 2, 2, 1], padding='VALID')\n",
    "    \n",
    "    # inception module\n",
    "    i1 = inception_module(x, mu, sigma, in_channels, n_filters)\n",
    "\n",
    "    # Flatten. Input = 5x5x16. Output = 400.\n",
    "    conv1 = tfcl.flatten(conv1)\n",
    "    conv2 = tfcl.flatten(conv2)\n",
    "    i1 = tfcl.flatten(i1)\n",
    "    fc0 = tf.concat(1, [conv1, conv2, i1])\n",
    "    \n",
    "    # Layer 3: Fully Connected. Input = 400. Output = 120.\n",
    "    fc1 = tfcl.fully_connected(fc0, 120, activation_fn=tf.nn.elu)\n",
    "    fc1 = tf.nn.dropout(fc1, keep_prob)\n",
    "\n",
    "    # Layer 4: Fully Connected. Input = 120. Output = 84.\n",
    "    fc2 = tfcl.fully_connected(fc1, 84, activation_fn=tf.nn.elu)\n",
    "    fc2 = tf.nn.dropout(fc2, keep_prob)\n",
    "\n",
    "    # SOLUTION: Layer 5: Fully Connected. Input = 84. Output = 43.\n",
    "    logits = tfcl.fully_connected(fc2, 43, activation_fn=None)\n",
    "    \n",
    "    return logits"
   ]
  },
  {
   "cell_type": "markdown",
   "metadata": {
    "deletable": true,
    "editable": true
   },
   "source": [
    "### Hyperparameters"
   ]
  },
  {
   "cell_type": "code",
   "execution_count": 65,
   "metadata": {
    "collapsed": true,
    "deletable": true,
    "editable": true
   },
   "outputs": [],
   "source": [
    "# batching\n",
    "epochs = 100\n",
    "batch_size = 128\n",
    "in_channels = 1\n",
    "n_filters = 1\n",
    "\n",
    "# weight initialisation\n",
    "mu = 0\n",
    "sigma = 0.1\n",
    "\n",
    "# dropout\n",
    "keep_prob = 0.75\n",
    "\n",
    "# optimiser\n",
    "starter_learning_rate = 1e-3\n",
    "decay_steps = len(X_train) / 3\n",
    "decay_rate = 0.9\n",
    "\n",
    "# stats\n",
    "stats = np.zeros([epochs, 3])\n",
    "df = pd.DataFrame(columns=['epoch', 'loss', 'accuracy'])"
   ]
  },
  {
   "cell_type": "markdown",
   "metadata": {
    "deletable": true,
    "editable": true
   },
   "source": [
    "### Training pipeline"
   ]
  },
  {
   "cell_type": "code",
   "execution_count": 66,
   "metadata": {
    "collapsed": false,
    "deletable": true,
    "editable": true
   },
   "outputs": [],
   "source": [
    "x = tf.placeholder(tf.float32, (None, 32, 32, 1))\n",
    "y = tf.placeholder(tf.int32, (None))\n",
    "one_hot_y = tf.one_hot(y, 43)\n",
    "global_step = tf.Variable(0, trainable=False)\n",
    "learning_rate = tf.train.exponential_decay(starter_learning_rate, global_step,\n",
    "                                           decay_steps, decay_rate, staircase=True)\n",
    "\n",
    "# logits = LeNet(x, mu, sigma, keep_prob) # working\n",
    "logits = LeNet(x, mu, sigma, in_channels, n_filters, keep_prob)\n",
    "# logits = inception(x, mu, sigma, in_channels, n_filters, keep_prob)\n",
    "cross_entropy = tf.nn.softmax_cross_entropy_with_logits(labels=one_hot_y, logits=logits)\n",
    "loss_operation = tf.reduce_mean(cross_entropy)\n",
    "optimizer = tf.train.AdamOptimizer(learning_rate = learning_rate)\n",
    "training_operation = optimizer.minimize(loss_operation)\n",
    "\n",
    "correct_prediction = tf.equal(tf.argmax(logits, 1), tf.argmax(one_hot_y, 1))\n",
    "accuracy_operation = tf.reduce_mean(tf.cast(correct_prediction, tf.float32))\n",
    "\n",
    "saver = tf.train.Saver()"
   ]
  },
  {
   "cell_type": "markdown",
   "metadata": {
    "deletable": true,
    "editable": true
   },
   "source": [
    "### Train, Validate and Test the Model"
   ]
  },
  {
   "cell_type": "markdown",
   "metadata": {
    "deletable": true,
    "editable": true
   },
   "source": [
    "A validation set can be used to assess how well the model is performing. A low accuracy on the training and validation\n",
    "sets imply underfitting. A high accuracy on the training set but low accuracy on the validation set implies overfitting."
   ]
  },
  {
   "cell_type": "code",
   "execution_count": 67,
   "metadata": {
    "collapsed": true,
    "deletable": true,
    "editable": true
   },
   "outputs": [],
   "source": [
    "### Train your model here.\n",
    "### Calculate and report the accuracy on the training and validation set.\n",
    "### Once a final model architecture is selected, \n",
    "### the accuracy on the test set should be calculated and reported as well.\n",
    "### Feel free to use as many code cells as needed."
   ]
  },
  {
   "cell_type": "code",
   "execution_count": 68,
   "metadata": {
    "collapsed": false,
    "deletable": true,
    "editable": true
   },
   "outputs": [],
   "source": [
    "def evaluate(X_data, y_data):\n",
    "    num_examples = len(X_data)\n",
    "    total_loss = 0\n",
    "    total_accuracy = 0\n",
    "    \n",
    "    sess = tf.get_default_session()\n",
    "    \n",
    "    for offset in range(0, num_examples, batch_size):\n",
    "        batch_x, batch_y = X_data[offset:offset + batch_size], y_data[offset:offset + batch_size]\n",
    "        \n",
    "        loss, accuracy = sess.run([loss_operation, accuracy_operation], feed_dict={x: batch_x, y: batch_y})\n",
    "        \n",
    "        total_loss += (loss * len(batch_x))\n",
    "        total_accuracy += (accuracy * len(batch_x))\n",
    "    \n",
    "    validation_loss = total_loss / num_examples\n",
    "    validation_accuracy = total_accuracy / num_examples\n",
    "    \n",
    "    return validation_loss, validation_accuracy"
   ]
  },
  {
   "cell_type": "code",
   "execution_count": 69,
   "metadata": {
    "collapsed": false,
    "deletable": true,
    "editable": true
   },
   "outputs": [
    {
     "name": "stdout",
     "output_type": "stream",
     "text": [
      "Training...\n",
      "Epoch   1\tValidation Loss 0.671\tValidation Accuracy = 0.798\n",
      "Epoch   2\tValidation Loss 0.510\tValidation Accuracy = 0.854\n",
      "Epoch   3\tValidation Loss 0.409\tValidation Accuracy = 0.878\n",
      "Epoch   4\tValidation Loss 0.381\tValidation Accuracy = 0.887\n",
      "Epoch   5\tValidation Loss 0.353\tValidation Accuracy = 0.904\n",
      "Epoch   6\tValidation Loss 0.353\tValidation Accuracy = 0.901\n",
      "Epoch   7\tValidation Loss 0.317\tValidation Accuracy = 0.911\n",
      "Epoch   8\tValidation Loss 0.312\tValidation Accuracy = 0.914\n",
      "Epoch   9\tValidation Loss 0.307\tValidation Accuracy = 0.915\n",
      "Epoch  10\tValidation Loss 0.297\tValidation Accuracy = 0.915\n",
      "Epoch  11\tValidation Loss 0.264\tValidation Accuracy = 0.927\n",
      "Epoch  12\tValidation Loss 0.266\tValidation Accuracy = 0.928\n",
      "Epoch  13\tValidation Loss 0.264\tValidation Accuracy = 0.931\n",
      "Epoch  14\tValidation Loss 0.252\tValidation Accuracy = 0.931\n",
      "Epoch  15\tValidation Loss 0.243\tValidation Accuracy = 0.939\n",
      "Epoch  16\tValidation Loss 0.261\tValidation Accuracy = 0.924\n",
      "Epoch  17\tValidation Loss 0.225\tValidation Accuracy = 0.936\n",
      "Epoch  18\tValidation Loss 0.270\tValidation Accuracy = 0.931\n",
      "Epoch  19\tValidation Loss 0.291\tValidation Accuracy = 0.927\n",
      "Epoch  20\tValidation Loss 0.225\tValidation Accuracy = 0.936\n",
      "Epoch  21\tValidation Loss 0.254\tValidation Accuracy = 0.936\n",
      "Epoch  22\tValidation Loss 0.218\tValidation Accuracy = 0.942\n",
      "Epoch  23\tValidation Loss 0.240\tValidation Accuracy = 0.936\n",
      "Epoch  24\tValidation Loss 0.276\tValidation Accuracy = 0.935\n",
      "Epoch  25\tValidation Loss 0.254\tValidation Accuracy = 0.937\n",
      "Epoch  26\tValidation Loss 0.237\tValidation Accuracy = 0.938\n",
      "Epoch  27\tValidation Loss 0.278\tValidation Accuracy = 0.934\n",
      "Epoch  28\tValidation Loss 0.280\tValidation Accuracy = 0.935\n",
      "Epoch  29\tValidation Loss 0.270\tValidation Accuracy = 0.932\n",
      "Epoch  30\tValidation Loss 0.249\tValidation Accuracy = 0.937\n",
      "Epoch  31\tValidation Loss 0.250\tValidation Accuracy = 0.936\n",
      "Epoch  32\tValidation Loss 0.247\tValidation Accuracy = 0.935\n",
      "Epoch  33\tValidation Loss 0.236\tValidation Accuracy = 0.942\n",
      "Epoch  34\tValidation Loss 0.236\tValidation Accuracy = 0.939\n",
      "Epoch  35\tValidation Loss 0.286\tValidation Accuracy = 0.934\n",
      "Epoch  36\tValidation Loss 0.233\tValidation Accuracy = 0.944\n",
      "Epoch  37\tValidation Loss 0.237\tValidation Accuracy = 0.943\n",
      "Epoch  38\tValidation Loss 0.243\tValidation Accuracy = 0.944\n",
      "Epoch  39\tValidation Loss 0.287\tValidation Accuracy = 0.939\n",
      "Epoch  40\tValidation Loss 0.303\tValidation Accuracy = 0.938\n",
      "Epoch  41\tValidation Loss 0.234\tValidation Accuracy = 0.948\n",
      "Epoch  42\tValidation Loss 0.287\tValidation Accuracy = 0.938\n",
      "Epoch  43\tValidation Loss 0.277\tValidation Accuracy = 0.938\n",
      "Epoch  44\tValidation Loss 0.308\tValidation Accuracy = 0.940\n",
      "Epoch  45\tValidation Loss 0.256\tValidation Accuracy = 0.943\n",
      "Epoch  46\tValidation Loss 0.256\tValidation Accuracy = 0.943\n",
      "Epoch  47\tValidation Loss 0.261\tValidation Accuracy = 0.942\n",
      "Epoch  48\tValidation Loss 0.306\tValidation Accuracy = 0.936\n",
      "Epoch  49\tValidation Loss 0.260\tValidation Accuracy = 0.941\n",
      "Epoch  50\tValidation Loss 0.305\tValidation Accuracy = 0.938\n",
      "Epoch  51\tValidation Loss 0.238\tValidation Accuracy = 0.946\n",
      "Epoch  52\tValidation Loss 0.276\tValidation Accuracy = 0.941\n",
      "Epoch  53\tValidation Loss 0.283\tValidation Accuracy = 0.939\n",
      "Epoch  54\tValidation Loss 0.249\tValidation Accuracy = 0.946\n",
      "Epoch  55\tValidation Loss 0.304\tValidation Accuracy = 0.937\n",
      "Epoch  56\tValidation Loss 0.237\tValidation Accuracy = 0.941\n",
      "Epoch  57\tValidation Loss 0.273\tValidation Accuracy = 0.942\n",
      "Epoch  58\tValidation Loss 0.266\tValidation Accuracy = 0.944\n",
      "Epoch  59\tValidation Loss 0.320\tValidation Accuracy = 0.937\n",
      "Epoch  60\tValidation Loss 0.277\tValidation Accuracy = 0.944\n",
      "Epoch  61\tValidation Loss 0.316\tValidation Accuracy = 0.937\n",
      "Epoch  62\tValidation Loss 0.248\tValidation Accuracy = 0.947\n",
      "Epoch  63\tValidation Loss 0.293\tValidation Accuracy = 0.942\n",
      "Epoch  64\tValidation Loss 0.318\tValidation Accuracy = 0.948\n",
      "Epoch  65\tValidation Loss 0.268\tValidation Accuracy = 0.940\n",
      "Epoch  66\tValidation Loss 0.323\tValidation Accuracy = 0.941\n",
      "Epoch  67\tValidation Loss 0.237\tValidation Accuracy = 0.948\n",
      "Epoch  68\tValidation Loss 0.279\tValidation Accuracy = 0.946\n",
      "Epoch  69\tValidation Loss 0.292\tValidation Accuracy = 0.944\n",
      "Epoch  70\tValidation Loss 0.287\tValidation Accuracy = 0.944\n",
      "Epoch  71\tValidation Loss 0.311\tValidation Accuracy = 0.942\n",
      "Epoch  72\tValidation Loss 0.280\tValidation Accuracy = 0.941\n",
      "Epoch  73\tValidation Loss 0.234\tValidation Accuracy = 0.949\n",
      "Epoch  74\tValidation Loss 0.322\tValidation Accuracy = 0.945\n",
      "Epoch  75\tValidation Loss 0.289\tValidation Accuracy = 0.941\n",
      "Epoch  76\tValidation Loss 0.255\tValidation Accuracy = 0.944\n",
      "Epoch  77\tValidation Loss 0.219\tValidation Accuracy = 0.954\n",
      "Epoch  78\tValidation Loss 0.241\tValidation Accuracy = 0.949\n",
      "Epoch  79\tValidation Loss 0.269\tValidation Accuracy = 0.946\n",
      "Epoch  80\tValidation Loss 0.259\tValidation Accuracy = 0.946\n",
      "Epoch  81\tValidation Loss 0.311\tValidation Accuracy = 0.939\n",
      "Epoch  82\tValidation Loss 0.299\tValidation Accuracy = 0.946\n",
      "Epoch  83\tValidation Loss 0.305\tValidation Accuracy = 0.947\n",
      "Epoch  84\tValidation Loss 0.309\tValidation Accuracy = 0.943\n",
      "Epoch  85\tValidation Loss 0.323\tValidation Accuracy = 0.941\n",
      "Epoch  86\tValidation Loss 0.277\tValidation Accuracy = 0.947\n",
      "Epoch  87\tValidation Loss 0.262\tValidation Accuracy = 0.946\n",
      "Epoch  88\tValidation Loss 0.273\tValidation Accuracy = 0.947\n",
      "Epoch  89\tValidation Loss 0.250\tValidation Accuracy = 0.949\n",
      "Epoch  90\tValidation Loss 0.260\tValidation Accuracy = 0.951\n",
      "Epoch  91\tValidation Loss 0.277\tValidation Accuracy = 0.948\n",
      "Epoch  92\tValidation Loss 0.260\tValidation Accuracy = 0.945\n",
      "Epoch  93\tValidation Loss 0.256\tValidation Accuracy = 0.944\n",
      "Epoch  94\tValidation Loss 0.294\tValidation Accuracy = 0.942\n",
      "Epoch  95\tValidation Loss 0.280\tValidation Accuracy = 0.938\n",
      "Epoch  96\tValidation Loss 0.300\tValidation Accuracy = 0.942\n",
      "Epoch  97\tValidation Loss 0.285\tValidation Accuracy = 0.949\n",
      "Epoch  98\tValidation Loss 0.317\tValidation Accuracy = 0.945\n",
      "Epoch  99\tValidation Loss 0.291\tValidation Accuracy = 0.951\n",
      "Epoch 100\tValidation Loss 0.287\tValidation Accuracy = 0.944\n",
      "Model saved\n"
     ]
    }
   ],
   "source": [
    "with tf.Session() as sess:\n",
    "    sess.run(tf.global_variables_initializer())\n",
    "    num_examples = len(X_train)\n",
    "    \n",
    "    print(\"Training...\")\n",
    "    \n",
    "    for i in range(epochs):\n",
    "        epoch = i + 1\n",
    "        X_train, y_train = shuffle(X_train, y_train)\n",
    "        \n",
    "        for offset in range(0, num_examples, batch_size):\n",
    "            end = offset + batch_size\n",
    "            batch_x, batch_y = X_train[offset:end], y_train[offset:end]\n",
    "            batch_x, batch_y = shuffle(batch_x, batch_y)\n",
    "            \n",
    "            sess.run(training_operation, feed_dict={x: batch_x, y: batch_y})\n",
    "            \n",
    "        validation_loss, validation_accuracy = evaluate(X_validation, y_validation)\n",
    "        \n",
    "        stats[i] = [epoch, validation_loss, validation_accuracy]\n",
    "        print(\"Epoch {:>3}\\tValidation Loss {:.3f}\\tValidation Accuracy = {:.3f}\".format(epoch, validation_loss, validation_accuracy))\n",
    "        \n",
    "    saver.save(sess, './lenet')\n",
    "    print(\"Model saved\")"
   ]
  },
  {
   "cell_type": "code",
   "execution_count": 70,
   "metadata": {
    "collapsed": false,
    "deletable": true,
    "editable": true
   },
   "outputs": [
    {
     "data": {
      "text/plain": [
       "array([<matplotlib.axes._subplots.AxesSubplot object at 0x7f77b104beb8>,\n",
       "       <matplotlib.axes._subplots.AxesSubplot object at 0x7f77b6c97518>], dtype=object)"
      ]
     },
     "execution_count": 70,
     "metadata": {},
     "output_type": "execute_result"
    },
    {
     "data": {
      "image/png": "[encoded data removed]",
      "text/plain": [
       "<matplotlib.figure.Figure at 0x7f77b1076358>"
      ]
     },
     "metadata": {},
     "output_type": "display_data"
    }
   ],
   "source": [
    "df = pd.DataFrame(stats, columns=['epoch', 'loss', 'accuracy'])\n",
    "df.plot(x='epoch', y=['loss', 'accuracy'], figsize=(10, 6), subplots=True, sharex=True)"
   ]
  },
  {
   "cell_type": "markdown",
   "metadata": {
    "deletable": true,
    "editable": true
   },
   "source": [
    "---\n",
    "\n",
    "## Step 3: Test a Model on New Images\n",
    "\n",
    "To give yourself more insight into how your model is working, download at least five pictures of German traffic signs from the web and use your model to predict the traffic sign type.\n",
    "\n",
    "You may find `signnames.csv` useful as it contains mappings from the class id (integer) to the actual sign name."
   ]
  },
  {
   "cell_type": "markdown",
   "metadata": {
    "deletable": true,
    "editable": true
   },
   "source": [
    "### Load and Output the Images"
   ]
  },
  {
   "cell_type": "code",
   "execution_count": 71,
   "metadata": {
    "collapsed": true,
    "deletable": true,
    "editable": true
   },
   "outputs": [],
   "source": [
    "### Load the images and plot them here.\n",
    "### Feel free to use as many code cells as needed."
   ]
  },
  {
   "cell_type": "markdown",
   "metadata": {
    "deletable": true,
    "editable": true
   },
   "source": [
    "### Predict the Sign Type for Each Image"
   ]
  },
  {
   "cell_type": "code",
   "execution_count": 72,
   "metadata": {
    "collapsed": true,
    "deletable": true,
    "editable": true
   },
   "outputs": [],
   "source": [
    "### Run the predictions here and use the model to output the prediction for each image.\n",
    "### Make sure to pre-process the images with the same pre-processing pipeline used earlier.\n",
    "### Feel free to use as many code cells as needed."
   ]
  },
  {
   "cell_type": "markdown",
   "metadata": {
    "deletable": true,
    "editable": true
   },
   "source": [
    "### Analyze Performance"
   ]
  },
  {
   "cell_type": "code",
   "execution_count": 73,
   "metadata": {
    "collapsed": true,
    "deletable": true,
    "editable": true
   },
   "outputs": [],
   "source": [
    "### Calculate the accuracy for these 5 new images. \n",
    "### For example, if the model predicted 1 out of 5 signs correctly, it's 20% accurate on these new images."
   ]
  },
  {
   "cell_type": "markdown",
   "metadata": {
    "deletable": true,
    "editable": true
   },
   "source": [
    "### Output Top 5 Softmax Probabilities For Each Image Found on the Web"
   ]
  },
  {
   "cell_type": "markdown",
   "metadata": {
    "deletable": true,
    "editable": true
   },
   "source": [
    "For each of the new images, print out the model's softmax probabilities to show the **certainty** of the model's predictions (limit the output to the top 5 probabilities for each image). [`tf.nn.top_k`](https://www.tensorflow.org/versions/r0.12/api_docs/python/nn.html#top_k) could prove helpful here. \n",
    "\n",
    "The example below demonstrates how tf.nn.top_k can be used to find the top k predictions for each image.\n",
    "\n",
    "`tf.nn.top_k` will return the values and indices (class ids) of the top k predictions. So if k=3, for each sign, it'll return the 3 largest probabilities (out of a possible 43) and the correspoding class ids.\n",
    "\n",
    "Take this numpy array as an example. The values in the array represent predictions. The array contains softmax probabilities for five candidate images with six possible classes. `tk.nn.top_k` is used to choose the three classes with the highest probability:\n",
    "\n",
    "```\n",
    "# (5, 6) array\n",
    "a = np.array([[ 0.24879643,  0.07032244,  0.12641572,  0.34763842,  0.07893497,\n",
    "         0.12789202],\n",
    "       [ 0.28086119,  0.27569815,  0.08594638,  0.0178669 ,  0.18063401,\n",
    "         0.15899337],\n",
    "       [ 0.26076848,  0.23664738,  0.08020603,  0.07001922,  0.1134371 ,\n",
    "         0.23892179],\n",
    "       [ 0.11943333,  0.29198961,  0.02605103,  0.26234032,  0.1351348 ,\n",
    "         0.16505091],\n",
    "       [ 0.09561176,  0.34396535,  0.0643941 ,  0.16240774,  0.24206137,\n",
    "         0.09155967]])\n",
    "```\n",
    "\n",
    "Running it through `sess.run(tf.nn.top_k(tf.constant(a), k=3))` produces:\n",
    "\n",
    "```\n",
    "TopKV2(values=array([[ 0.34763842,  0.24879643,  0.12789202],\n",
    "       [ 0.28086119,  0.27569815,  0.18063401],\n",
    "       [ 0.26076848,  0.23892179,  0.23664738],\n",
    "       [ 0.29198961,  0.26234032,  0.16505091],\n",
    "       [ 0.34396535,  0.24206137,  0.16240774]]), indices=array([[3, 0, 5],\n",
    "       [0, 1, 4],\n",
    "       [0, 5, 1],\n",
    "       [1, 3, 5],\n",
    "       [1, 4, 3]], dtype=int32))\n",
    "```\n",
    "\n",
    "Looking just at the first row we get `[ 0.34763842,  0.24879643,  0.12789202]`, you can confirm these are the 3 largest probabilities in `a`. You'll also notice `[3, 0, 5]` are the corresponding indices."
   ]
  },
  {
   "cell_type": "code",
   "execution_count": 74,
   "metadata": {
    "collapsed": true,
    "deletable": true,
    "editable": true
   },
   "outputs": [],
   "source": [
    "### Print out the top five softmax probabilities for the predictions on the German traffic sign images found on the web. \n",
    "### Feel free to use as many code cells as needed."
   ]
  },
  {
   "cell_type": "markdown",
   "metadata": {
    "deletable": true,
    "editable": true
   },
   "source": [
    "### Project Writeup\n",
    "\n",
    "Once you have completed the code implementation, document your results in a project writeup using this [template](https://github.com/udacity/CarND-Traffic-Sign-Classifier-Project/blob/master/writeup_template.md) as a guide. The writeup can be in a markdown or pdf file. "
   ]
  },
  {
   "cell_type": "markdown",
   "metadata": {
    "deletable": true,
    "editable": true
   },
   "source": [
    "> **Note**: Once you have completed all of the code implementations and successfully answered each question above, you may finalize your work by exporting the iPython Notebook as an HTML document. You can do this by using the menu above and navigating to  \\n\",\n",
    "    \"**File -> Download as -> HTML (.html)**. Include the finished document along with this notebook as your submission."
   ]
  },
  {
   "cell_type": "markdown",
   "metadata": {
    "deletable": true,
    "editable": true
   },
   "source": [
    "---\n",
    "\n",
    "## Step 4 (Optional): Visualize the Neural Network's State with Test Images\n",
    "\n",
    " This Section is not required to complete but acts as an additional excersise for understaning the output of a neural network's weights. While neural networks can be a great learning device they are often referred to as a black box. We can understand what the weights of a neural network look like better by plotting their feature maps. After successfully training your neural network you can see what it's feature maps look like by plotting the output of the network's weight layers in response to a test stimuli image. From these plotted feature maps, it's possible to see what characteristics of an image the network finds interesting. For a sign, maybe the inner network feature maps react with high activation to the sign's boundary outline or to the contrast in the sign's painted symbol.\n",
    "\n",
    " Provided for you below is the function code that allows you to get the visualization output of any tensorflow weight layer you want. The inputs to the function should be a stimuli image, one used during training or a new one you provided, and then the tensorflow variable name that represents the layer's state during the training process, for instance if you wanted to see what the [LeNet lab's](https://classroom.udacity.com/nanodegrees/nd013/parts/fbf77062-5703-404e-b60c-95b78b2f3f9e/modules/6df7ae49-c61c-4bb2-a23e-6527e69209ec/lessons/601ae704-1035-4287-8b11-e2c2716217ad/concepts/d4aca031-508f-4e0b-b493-e7b706120f81) feature maps looked like for it's second convolutional layer you could enter conv2 as the tf_activation variable.\n",
    "\n",
    "For an example of what feature map outputs look like, check out NVIDIA's results in their paper [End-to-End Deep Learning for Self-Driving Cars](https://devblogs.nvidia.com/parallelforall/deep-learning-self-driving-cars/) in the section Visualization of internal CNN State. NVIDIA was able to show that their network's inner weights had high activations to road boundary lines by comparing feature maps from an image with a clear path to one without. Try experimenting with a similar test to show that your trained network's weights are looking for interesting features, whether it's looking at differences in feature maps from images with or without a sign, or even what feature maps look like in a trained network vs a completely untrained one on the same sign image.\n",
    "\n",
    "<figure>\n",
    " <img src=\"visualize_cnn.png\" width=\"380\" alt=\"Combined Image\" />\n",
    " <figcaption>\n",
    " <p></p> \n",
    " <p style=\"text-align: center;\"> Your output should look something like this (above)</p> \n",
    " </figcaption>\n",
    "</figure>\n",
    " <p></p> \n"
   ]
  },
  {
   "cell_type": "code",
   "execution_count": 75,
   "metadata": {
    "collapsed": true,
    "deletable": true,
    "editable": true
   },
   "outputs": [],
   "source": [
    "### Visualize your network's feature maps here.\n",
    "### Feel free to use as many code cells as needed.\n",
    "\n",
    "# image_input: the test image being fed into the network to produce the feature maps\n",
    "# tf_activation: should be a tf variable name used during your training procedure that represents the calculated state of a specific weight layer\n",
    "# activation_min/max: can be used to view the activation contrast in more detail, by default matplot sets min and max to the actual min and max values of the output\n",
    "# plt_num: used to plot out multiple different weight feature map sets on the same block, just extend the plt number for each new feature map entry\n",
    "\n",
    "def outputFeatureMap(image_input, tf_activation, activation_min=-1, activation_max=-1 ,plt_num=1):\n",
    "    # Here make sure to preprocess your image_input in a way your network expects\n",
    "    # with size, normalization, ect if needed\n",
    "    # image_input =\n",
    "    # Note: x should be the same name as your network's tensorflow data placeholder variable\n",
    "    # If you get an error tf_activation is not defined it may be having trouble accessing the variable from inside a function\n",
    "    activation = tf_activation.eval(session=sess,feed_dict={x : image_input})\n",
    "    featuremaps = activation.shape[3]\n",
    "    plt.figure(plt_num, figsize=(15,15))\n",
    "    for featuremap in range(featuremaps):\n",
    "        plt.subplot(6,8, featuremap+1) # sets the number of feature maps to show on each row and column\n",
    "        plt.title('FeatureMap ' + str(featuremap)) # displays the feature map number\n",
    "        if activation_min != -1 & activation_max != -1:\n",
    "            plt.imshow(activation[0,:,:, featuremap], interpolation=\"nearest\", vmin =activation_min, vmax=activation_max, cmap=\"gray\")\n",
    "        elif activation_max != -1:\n",
    "            plt.imshow(activation[0,:,:, featuremap], interpolation=\"nearest\", vmax=activation_max, cmap=\"gray\")\n",
    "        elif activation_min !=-1:\n",
    "            plt.imshow(activation[0,:,:, featuremap], interpolation=\"nearest\", vmin=activation_min, cmap=\"gray\")\n",
    "        else:\n",
    "            plt.imshow(activation[0,:,:, featuremap], interpolation=\"nearest\", cmap=\"gray\")"
   ]
  }
 ],
 "metadata": {
  "anaconda-cloud": {},
  "kernelspec": {
   "display_name": "Python 3",
   "language": "python",
   "name": "python3"
  },
  "language_info": {
   "codemirror_mode": {
    "name": "ipython",
    "version": 3
   },
   "file_extension": ".py",
   "mimetype": "text/x-python",
   "name": "python",
   "nbconvert_exporter": "python",
   "pygments_lexer": "ipython3",
   "version": "3.5.2"
  },
  "widgets": {
   "state": {},
   "version": "1.1.2"
  }
 },
 "nbformat": 4,
 "nbformat_minor": 1
}
